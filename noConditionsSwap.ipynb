{
  "cells": [
    {
      "cell_type": "code",
      "source": [
        "```C\n",
        "#include <stdio.h>\n",
        "\n",
        "void swap(int *x, int *y) {\n",
        "    int u = *x, v = *y;\n",
        "    int s = (u - v) >> (sizeof(int) * 8 - 1);\n",
        "    *x = v * (1 + s) - u * s;\n",
        "    *y = u * (1 + s) - v * s;\n",
        "}\n",
        "\n",
        "int main() {\n",
        "    swap(3, 15);\n",
        "    swap(15, 3);\n",
        "    swap(-13, 5);\n",
        "    swap(5, -13);\n",
        "    printf(\"Hello world!\\n\");\n",
        "}\n",
        "```"
      ],
      "outputs": [],
      "execution_count": null,
      "metadata": {
        "collapsed": false,
        "outputHidden": false,
        "inputHidden": false
      }
    }
  ],
  "metadata": {
    "kernelspec": {
      "name": "bash",
      "language": "c",
      "display_name": "C"
    },
    "kernel_info": {
      "name": "bash"
    },
    "nteract": {
      "version": "0.3.4"
    }
  },
  "nbformat": 4,
  "nbformat_minor": 4
}