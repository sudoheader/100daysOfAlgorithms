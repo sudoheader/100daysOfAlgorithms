{
  "cells": [
    {
      "cell_type": "code",
      "source": [
        "from bokeh.plotting import figure, show, output_notebook\n",
        "\n",
        "def probability(n):\n",
        "    # initial probabilities\n",
        "    p = [0, 0, 0, 0, 0, 1]\n",
        "\n",
        "    # next field is conditioned on previous six fields\n",
        "    for _ in range(n):\n",
        "        p.append(sum(p[-6:]) / 6)\n",
        "\n",
        "    return p[6:]\n",
        "\n",
        "fields = probability(24)\n",
        "output_notebook()\n",
        "\n",
        "plot = figure(y_range=(0, .5))\n",
        "plot.scatter(x=range(1, 25), y=fields)\n",
        "show(plot)\n"
      ],
      "outputs": [],
      "execution_count": null,
      "metadata": {
        "collapsed": false,
        "outputHidden": false,
        "inputHidden": false
      }
    }
  ],
  "metadata": {
    "kernelspec": {
      "name": "python3",
      "language": "python",
      "display_name": "Python 3"
    },
    "kernel_info": {
      "name": "python3"
    },
    "language_info": {
      "name": "python",
      "version": "3.6.1",
      "mimetype": "text/x-python",
      "codemirror_mode": {
        "name": "ipython",
        "version": 3
      },
      "pygments_lexer": "ipython3",
      "nbconvert_exporter": "python",
      "file_extension": ".py"
    },
    "nteract": {
      "version": "0.3.4"
    }
  },
  "nbformat": 4,
  "nbformat_minor": 4
}